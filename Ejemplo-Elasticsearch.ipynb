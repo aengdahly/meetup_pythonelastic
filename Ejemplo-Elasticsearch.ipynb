{
 "cells": [
  {
   "cell_type": "markdown",
   "id": "eec81d3a",
   "metadata": {},
   "source": [
    "# ElasticSearch & Python"
   ]
  },
  {
   "cell_type": "code",
   "execution_count": null,
   "id": "b2327a13",
   "metadata": {},
   "outputs": [],
   "source": [
    "!pip install elasticsearch"
   ]
  },
  {
   "cell_type": "markdown",
   "id": "cb5c422a",
   "metadata": {},
   "source": [
    "## Conexión a ElasticSearch."
   ]
  },
  {
   "cell_type": "code",
   "execution_count": 1,
   "id": "2178d0b6",
   "metadata": {},
   "outputs": [],
   "source": [
    "from elasticsearch import Elasticsearch\n",
    "es=Elasticsearch([{'host':'localhost', 'port':9200}])"
   ]
  },
  {
   "cell_type": "markdown",
   "id": "4ce0cd90",
   "metadata": {},
   "source": [
    "## Creación de un índice."
   ]
  },
  {
   "cell_type": "code",
   "execution_count": 2,
   "id": "dd2e54f2",
   "metadata": {},
   "outputs": [
    {
     "data": {
      "text/plain": [
       "{'acknowledged': True, 'shards_acknowledged': True, 'index': 'test-index2'}"
      ]
     },
     "execution_count": 2,
     "metadata": {},
     "output_type": "execute_result"
    }
   ],
   "source": [
    "request_body = {\n",
    "\t    \"settings\" : {\n",
    "\t        \"number_of_shards\": 1,\n",
    "\t        \"number_of_replicas\": 0\n",
    "\t    },\n",
    "\n",
    "\t    'mappings': {\n",
    "\t            'properties': {\n",
    "\t                'author': {'type': 'keyword'},\n",
    "\t                'texto': {'type': 'text', 'analyzer':'spanish'}\n",
    "\t            }}\n",
    "\t}\n",
    "\n",
    "es.indices.create(index = 'test-index2', body = request_body)"
   ]
  },
  {
   "cell_type": "markdown",
   "id": "35d61df4",
   "metadata": {},
   "source": [
    "## Añadir información."
   ]
  },
  {
   "cell_type": "code",
   "execution_count": 3,
   "id": "adca1736",
   "metadata": {},
   "outputs": [
    {
     "name": "stdout",
     "output_type": "stream",
     "text": [
      "created\n"
     ]
    }
   ],
   "source": [
    "doc = {\n",
    "    'author': 'DTPM',\n",
    "    'texto': 'Metro Estación Hernando de Magallanes. Corresponde al eje estructurante del Sistema de Transporte Público de Santiago. Su red abarca 119 kilómetros'\n",
    "}\n",
    "\n",
    "\n",
    "res = es.index(index=\"test-index2\", body=doc)\n",
    "\n",
    "print(res['result'])\n"
   ]
  },
  {
   "cell_type": "markdown",
   "id": "e829ee7b",
   "metadata": {},
   "source": [
    "## Query."
   ]
  },
  {
   "cell_type": "code",
   "execution_count": 4,
   "id": "3d44af42",
   "metadata": {},
   "outputs": [
    {
     "name": "stdout",
     "output_type": "stream",
     "text": [
      "{'took': 3, 'timed_out': False, '_shards': {'total': 1, 'successful': 1, 'skipped': 0, 'failed': 0}, 'hits': {'total': {'value': 3, 'relation': 'eq'}, 'max_score': 0.70988077, 'hits': [{'_index': 'test-index', '_type': '_doc', '_id': 's2i4onsBn_9tHcG1G_QS', '_score': 0.70988077, '_source': {'author': 'DTPM', 'texto': 'Metro Estación Hernando de Magallanes. Corresponde al eje estructurante del Sistema de Transporte Público de Santiago. Su red abarca 119 kilómetros'}}, {'_index': 'test-index', '_type': '_doc', '_id': 'smi3onsBn_9tHcG1LfQb', '_score': 0.6320628, '_source': {'author': 'SEA', 'texto': '1°. El Estudio de Impacto Ambiental (EIA) admitido a trámite con fecha 27 de junio de 2019 mediante Resolución Exenta N°343/2019 de la Comisión de Evaluación de la Región Metropolitana de Santiago, su Adenda de fecha 01 de abril de 2020, su Adenda Complementaria de fecha 15 de enero de 2021 y su Adenda Excepcional de fecha 13 de mayo de 2021 del Proyecto “Línea 7 Metro de Santiago” presentado por Empresa de Transporte de Pasajeros Metro S.A.'}}, {'_index': 'test-index', '_type': '_doc', '_id': 'sWi2onsBn_9tHcG1xPTp', '_score': 0.19223598, '_source': {'author': 'Otro', 'texto': 'Ranking: cuánto cuesta el m2 en las comunas de Santiago'}}]}}\n"
     ]
    }
   ],
   "source": [
    "query = {\n",
    "    'query': {\n",
    "        'match': {\n",
    "            'texto': 'metro de santiago' #va a buscar: metr santiag, sin orden, santiag metr\n",
    "        }\n",
    "    }\n",
    "}\n",
    "\n",
    "result=es.search(index='test-index', body=query)\n",
    "print(result)"
   ]
  },
  {
   "cell_type": "code",
   "execution_count": 5,
   "id": "28787ed0",
   "metadata": {},
   "outputs": [
    {
     "name": "stdout",
     "output_type": "stream",
     "text": [
      "{'took': 2, 'timed_out': False, '_shards': {'total': 1, 'successful': 1, 'skipped': 0, 'failed': 0}, 'hits': {'total': {'value': 1, 'relation': 'eq'}, 'max_score': 0.41474777, 'hits': [{'_index': 'test-index', '_type': '_doc', '_id': 'smi3onsBn_9tHcG1LfQb', '_score': 0.41474777, '_source': {'author': 'SEA', 'texto': '1°. El Estudio de Impacto Ambiental (EIA) admitido a trámite con fecha 27 de junio de 2019 mediante Resolución Exenta N°343/2019 de la Comisión de Evaluación de la Región Metropolitana de Santiago, su Adenda de fecha 01 de abril de 2020, su Adenda Complementaria de fecha 15 de enero de 2021 y su Adenda Excepcional de fecha 13 de mayo de 2021 del Proyecto “Línea 7 Metro de Santiago” presentado por Empresa de Transporte de Pasajeros Metro S.A.'}}]}}\n"
     ]
    }
   ],
   "source": [
    "query = {\n",
    "    'query': {\n",
    "        'match_phrase': {\n",
    "            'texto': 'metro de santiago' #va a buscar: metr ? santiag\n",
    "        }\n",
    "    }\n",
    "}\n",
    "\n",
    "result=es.search(index='test-index', body=query)\n",
    "print(result)"
   ]
  },
  {
   "cell_type": "code",
   "execution_count": null,
   "id": "762964c0",
   "metadata": {},
   "outputs": [],
   "source": []
  }
 ],
 "metadata": {
  "kernelspec": {
   "display_name": "Python 3",
   "language": "python",
   "name": "python3"
  },
  "language_info": {
   "codemirror_mode": {
    "name": "ipython",
    "version": 3
   },
   "file_extension": ".py",
   "mimetype": "text/x-python",
   "name": "python",
   "nbconvert_exporter": "python",
   "pygments_lexer": "ipython3",
   "version": "3.8.11"
  }
 },
 "nbformat": 4,
 "nbformat_minor": 5
}
